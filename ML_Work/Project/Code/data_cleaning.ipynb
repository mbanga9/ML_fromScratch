{
 "cells": [
  {
   "cell_type": "code",
   "execution_count": 68,
   "metadata": {},
   "outputs": [
    {
     "name": "stdout",
     "output_type": "stream",
     "text": [
      "The autoreload extension is already loaded. To reload it, use:\n",
      "  %reload_ext autoreload\n"
     ]
    }
   ],
   "source": [
    "# Useful starting lines\n",
    "%matplotlib inline\n",
    "import numpy as np\n",
    "import matplotlib.pyplot as plt\n",
    "import pandas as pd\n",
    "import itertools\n",
    "%load_ext autoreload\n",
    "%autoreload 2"
   ]
  },
  {
   "cell_type": "code",
   "execution_count": 17,
   "metadata": {
    "collapsed": true
   },
   "outputs": [],
   "source": [
    "from proj1_helpers import load_csv_data"
   ]
  },
  {
   "cell_type": "code",
   "execution_count": 20,
   "metadata": {},
   "outputs": [],
   "source": [
    "# load the data\n",
    "\n",
    "data_path = '/home/mbanga/Epfl/MachineLearning/train.csv'\n",
    "yb, input_data, ids = load_csv_data(data_path, sub_sample=False)"
   ]
  },
  {
   "cell_type": "code",
   "execution_count": 65,
   "metadata": {},
   "outputs": [
    {
     "data": {
      "text/plain": [
       "250000"
      ]
     },
     "execution_count": 65,
     "metadata": {},
     "output_type": "execute_result"
    }
   ],
   "source": [
    "# Try to visualize correlations between features. If we observe a strong\n",
    "# correlation between features then we could clean our data set by \n",
    "# removing one of them (Feature selection)\n",
    "\n",
    "features = pd.DataFrame(input_data)\n",
    "features.head()\n",
    "\n",
    "threshold = 0.95\n",
    "c = np.corrcoef(input_data, rowvar=False)\n",
    "len(np.where(c > threshold)[0])\n"
   ]
  },
  {
   "cell_type": "code",
   "execution_count": null,
   "metadata": {
    "collapsed": true
   },
   "outputs": [],
   "source": [
    "# Ideas - Methods for data cleaning\n",
    "\n",
    "# A feature may be important if it is highly correlated with \n",
    "# the dependent variable (the thing being predicted)\n",
    "\n",
    "# Try the prediction algorithm removing some features and compare\n",
    "# the result with the 'standard' version (~feature extraction). Try\n",
    "# it for all combinations\n",
    "\n",
    "# What to do with nan values ?\n",
    "\n",
    "# "
   ]
  },
  {
   "cell_type": "code",
   "execution_count": 222,
   "metadata": {
    "collapsed": true
   },
   "outputs": [],
   "source": [
    "def indices_to_bool(indices, n):\n",
    "    bools = np.array([False] * n)\n",
    "    bools[list(indices)] = True\n",
    "    return bools"
   ]
  },
  {
   "cell_type": "code",
   "execution_count": 237,
   "metadata": {},
   "outputs": [],
   "source": [
    "def select_features(n, k):\n",
    "    combs = list(itertools.combinations(list(np.arange(n)), k))\n",
    "    return [(indices_to_bool(x, n), x) for x in combs]"
   ]
  },
  {
   "cell_type": "code",
   "execution_count": 241,
   "metadata": {},
   "outputs": [
    {
     "name": "stdout",
     "output_type": "stream",
     "text": [
      "[ True  True False] \n",
      "\n",
      "[ True False  True] \n",
      "\n",
      "[False  True  True] \n",
      "\n"
     ]
    }
   ],
   "source": [
    "x = np.array([[1, 2, 3], [4, 5, 6], [7, 8, 9]])\n",
    "n = 3\n",
    "k = 2\n",
    "for select, indices in select_features(n, k):\n",
    "    x = x[:, select]\n",
    "    \n",
    "    # do the calculation and store the score together\n",
    "    # with the indices to that score"
   ]
  },
  {
   "cell_type": "code",
   "execution_count": null,
   "metadata": {},
   "outputs": [],
   "source": [
    "\n"
   ]
  }
 ],
 "metadata": {
  "kernelspec": {
   "display_name": "Python 3",
   "language": "python",
   "name": "python3"
  },
  "language_info": {
   "codemirror_mode": {
    "name": "ipython",
    "version": 3
   },
   "file_extension": ".py",
   "mimetype": "text/x-python",
   "name": "python",
   "nbconvert_exporter": "python",
   "pygments_lexer": "ipython3",
   "version": "3.6.1"
  }
 },
 "nbformat": 4,
 "nbformat_minor": 2
}
